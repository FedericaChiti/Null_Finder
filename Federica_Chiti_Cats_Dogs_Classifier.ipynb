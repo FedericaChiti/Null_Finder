{
  "nbformat": 4,
  "nbformat_minor": 0,
  "metadata": {
    "colab": {
      "provenance": [],
      "machine_shape": "hm",
      "authorship_tag": "ABX9TyNUGkrg6+otcluh4NDGfZEP",
      "include_colab_link": true
    },
    "kernelspec": {
      "name": "python3",
      "display_name": "Python 3"
    },
    "language_info": {
      "name": "python"
    },
    "accelerator": "GPU",
    "gpuClass": "premium"
  },
  "cells": [
    {
      "cell_type": "markdown",
      "metadata": {
        "id": "view-in-github",
        "colab_type": "text"
      },
      "source": [
        "<a href=\"https://colab.research.google.com/github/FedericaChiti/Null_Finder/blob/main/Federica_Chiti_Cats_Dogs_Classifier.ipynb\" target=\"_parent\"><img src=\"https://colab.research.google.com/assets/colab-badge.svg\" alt=\"Open In Colab\"/></a>"
      ]
    },
    {
      "cell_type": "code",
      "execution_count": 1,
      "metadata": {
        "id": "3apc_Krc5bIO"
      },
      "outputs": [],
      "source": [
        "%matplotlib inline"
      ]
    },
    {
      "cell_type": "markdown",
      "source": [
        "# Retrieving files from the drive"
      ],
      "metadata": {
        "id": "8IiHpUsgUgVm"
      }
    },
    {
      "cell_type": "code",
      "source": [
        "# download data directly from Google Drive \n",
        "import zipfile\n",
        "from google.colab import drive\n",
        "\n",
        "drive.mount('/content/drive/')\n",
        "\n",
        "zip_ref = zipfile.ZipFile(\"/content/drive/My Drive/cat_dog_small.zip\", 'r')\n",
        "zip_ref.extractall()"
      ],
      "metadata": {
        "colab": {
          "base_uri": "https://localhost:8080/"
        },
        "id": "ZQaUpOjY500b",
        "outputId": "7c0b8e9f-cbb9-4b51-ca32-e8feccc2e70d"
      },
      "execution_count": 2,
      "outputs": [
        {
          "output_type": "stream",
          "name": "stdout",
          "text": [
            "Mounted at /content/drive/\n"
          ]
        }
      ]
    },
    {
      "cell_type": "code",
      "source": [
        "zip_ref = zipfile.ZipFile(\"/content/drive/My Drive/cat_dog_full.zip\", 'r')\n",
        "zip_ref.extractall()"
      ],
      "metadata": {
        "id": "CBjwY-aK59VE"
      },
      "execution_count": 3,
      "outputs": []
    },
    {
      "cell_type": "code",
      "source": [
        "import os\n",
        "os.environ['CUDA_LAUNCH_BLOCKING'] = \"1\""
      ],
      "metadata": {
        "id": "MsHSzOpU6Ckn"
      },
      "execution_count": 4,
      "outputs": []
    },
    {
      "cell_type": "markdown",
      "source": [
        "# Importing useful modules"
      ],
      "metadata": {
        "id": "OBSUfHPQUun6"
      }
    },
    {
      "cell_type": "code",
      "source": [
        "import torch\n",
        "import torch.nn as nn\n",
        "import torchvision\n",
        "import torch.optim as optim\n",
        "import torchvision.transforms as transforms\n",
        "from torch.utils.data import DataLoader\n",
        "import torchvision.datasets as datasets\n",
        "import matplotlib.pyplot as plt\n",
        "from sklearn.metrics import roc_curve, auc"
      ],
      "metadata": {
        "id": "RmRkCyJ46D6i"
      },
      "execution_count": 14,
      "outputs": []
    },
    {
      "cell_type": "markdown",
      "source": [
        "# Defining model architecture"
      ],
      "metadata": {
        "id": "qYwxsXZeU-XH"
      }
    },
    {
      "cell_type": "code",
      "source": [
        "# Define the CNN model architecture\n",
        "class CNN(nn.Module):\n",
        "    def __init__(self):\n",
        "        #call constructor of class nn.Module and initialize the inherited properties and methods of the CNN class.\n",
        "        super(CNN, self).__init__()\n",
        "        #define first convolutional 2d layer\n",
        "        self.conv1 = nn.Conv2d(in_channels=3, out_channels=32, kernel_size=3, padding=1)\n",
        "        #batch normalization \n",
        "        self.bn1 = nn.BatchNorm2d(32)\n",
        "        #define second convolutional 2d layer\n",
        "        self.conv2 = nn.Conv2d(in_channels=32, out_channels=64, kernel_size=3, padding=1)\n",
        "        #batch normalization \n",
        "        self.bn2 = nn.BatchNorm2d(64)\n",
        "        #define third convolutional 2d layer\n",
        "        self.conv3 = nn.Conv2d(in_channels=64, out_channels=128, kernel_size=3, padding=1)\n",
        "        #batch normalization \n",
        "        self.bn3 = nn.BatchNorm2d(128)\n",
        "        #define max pooling layer that downsamples the spatial dimensions of the input by a factor of 2\n",
        "        self.pool = nn.MaxPool2d(kernel_size=2, stride=2)\n",
        "        #define fully connected layers\n",
        "        self.fc1 = nn.Linear(in_features=128 * 16 * 16, out_features=512)\n",
        "        self.fc2 = nn.Linear(in_features=512, out_features=2)\n",
        "        #define dropout layer that randomly sets 50% of the activations to zero during training.\n",
        "        # self.dropout = nn.Dropout(p=0.5) #this makes the loss oscillating between 0.6 and 0.7\n",
        "        #maybe it's too high... should try lower this to see if it converges\n",
        "        #define activation function that applies the rectified linear unit (ReLU) function element-wise to the input.\n",
        "        self.relu = nn.ReLU()\n",
        "\n",
        "    def forward(self, x):\n",
        "      #define forward pass of a 3-layer CNN model\n",
        "        #first convolutional layer\n",
        "        x = self.conv1(x)\n",
        "        x = self.bn1(x)\n",
        "        x = self.relu(x)\n",
        "        x = self.pool(x)\n",
        "        #second convolutional layer\n",
        "        x = self.conv2(x)\n",
        "        x = self.bn2(x)\n",
        "        x = self.relu(x)\n",
        "        x = self.pool(x)\n",
        "        #third convolutional layer\n",
        "        x = self.conv3(x)\n",
        "        x = self.bn3(x)\n",
        "        x = self.relu(x)\n",
        "        x = self.pool(x)\n",
        "        #the output tensor is flattened using the view method to a 1D tensor\n",
        "        x = x.view(-1, 128 * 16 * 16)\n",
        "        x = self.fc1(x)\n",
        "        x = self.relu(x)\n",
        "        # x = self.dropout(x)\n",
        "        x = self.fc2(x)\n",
        "        return x\n"
      ],
      "metadata": {
        "id": "yHXHXrnt6Iiz"
      },
      "execution_count": 10,
      "outputs": []
    },
    {
      "cell_type": "markdown",
      "source": [
        "# Defining data augmentation and loading the data"
      ],
      "metadata": {
        "id": "siinfAi_VC5V"
      }
    },
    {
      "cell_type": "code",
      "source": [
        "# Define the data preprocessing\n",
        "transform = transforms.Compose([\n",
        "    transforms.Resize(128),\n",
        "    transforms.CenterCrop(128),\n",
        "    transforms.ToTensor(),\n",
        "    transforms.Normalize(mean=[0.5, 0.5, 0.5], std=[0.5, 0.5, 0.5])\n",
        "])\n",
        "\n",
        "# Load the data from the full dataset \n",
        "train_dataset_full = datasets.ImageFolder(root='./dataset/training_set/', transform=transform)\n",
        "train_loader_full = DataLoader(train_dataset_full, batch_size=64, shuffle=True)\n",
        "test_dataset_full = datasets.ImageFolder(root='./dataset/test_set/', transform=transform)\n",
        "test_loader_full = DataLoader(test_dataset_full, batch_size=64, shuffle=False)\n",
        "\n",
        "\n",
        "# Load the data from the smaller dataset\n",
        "train_dataset = torchvision.datasets.ImageFolder(root='./cat_dog/train/', transform=transform)\n",
        "train_loader = DataLoader(dataset=train_dataset, batch_size=64, shuffle=True)\n",
        "test_dataset = torchvision.datasets.ImageFolder(root='./cat_dog/test/', transform=transform)\n",
        "test_loader = DataLoader(dataset=test_dataset, batch_size=64, shuffle=True)\n",
        "\n"
      ],
      "metadata": {
        "id": "UnbyBcjkLqGX"
      },
      "execution_count": 23,
      "outputs": []
    },
    {
      "cell_type": "markdown",
      "source": [
        "# Training and testing the model using the smaller dataset"
      ],
      "metadata": {
        "id": "oxAcfO2sdXlh"
      }
    },
    {
      "cell_type": "code",
      "source": [
        "# Define the loss function and optimizer\n",
        "model = CNN()\n",
        "criterion = nn.CrossEntropyLoss()\n",
        "optimizer = optim.Adam(model.parameters(), lr=0.001)\n",
        "\n",
        "# Train the model\n",
        "num_epochs = 10\n",
        "for epoch in range(num_epochs):\n",
        "    for i, (images, labels) in enumerate(train_loader):\n",
        "        # Forward pass\n",
        "        outputs = model(images)\n",
        "        loss = criterion(outputs, labels)\n",
        "        # Backward and optimize\n",
        "        optimizer.zero_grad()\n",
        "        loss.backward()\n",
        "        optimizer.step()\n",
        "        if (i) % 10 == 0:\n",
        "            print ('Epoch [{}/{}], Step [{}/{}], Loss: {:.4f}'\n",
        "                   .format(epoch+1, num_epochs, i+1, len(train_loader), loss.item()))\n",
        "\n",
        "# Test the model\n",
        "model.eval()\n",
        "with torch.no_grad():\n",
        "    correct = 0\n",
        "    total = 0\n",
        "    for images, labels in test_loader:\n",
        "        outputs = model(images)\n",
        "        _, predicted = torch.max(outputs.data, 1)\n",
        "        total += labels.size(0)\n",
        "        correct += (predicted == labels).sum().item()\n",
        "    print('Test Accuracy of the model on the test images: {} %'.format(100 * correct / total))\n"
      ],
      "metadata": {
        "colab": {
          "base_uri": "https://localhost:8080/"
        },
        "id": "ogizzu7ZdakY",
        "outputId": "48f05c24-74c9-4fa0-dd11-633a74621210"
      },
      "execution_count": 24,
      "outputs": [
        {
          "output_type": "stream",
          "name": "stdout",
          "text": [
            "Epoch [1/10], Step [1/50], Loss: 0.7990\n",
            "Epoch [1/10], Step [11/50], Loss: 0.8319\n",
            "Epoch [1/10], Step [21/50], Loss: 0.5973\n",
            "Epoch [1/10], Step [31/50], Loss: 0.5651\n",
            "Epoch [1/10], Step [41/50], Loss: 0.6063\n",
            "Epoch [2/10], Step [1/50], Loss: 0.5518\n",
            "Epoch [2/10], Step [11/50], Loss: 0.5510\n",
            "Epoch [2/10], Step [21/50], Loss: 0.5798\n",
            "Epoch [2/10], Step [31/50], Loss: 0.5144\n",
            "Epoch [2/10], Step [41/50], Loss: 0.5410\n",
            "Epoch [3/10], Step [1/50], Loss: 0.5251\n",
            "Epoch [3/10], Step [11/50], Loss: 0.3646\n",
            "Epoch [3/10], Step [21/50], Loss: 0.5660\n",
            "Epoch [3/10], Step [31/50], Loss: 0.5288\n",
            "Epoch [3/10], Step [41/50], Loss: 0.4431\n",
            "Epoch [4/10], Step [1/50], Loss: 0.5007\n",
            "Epoch [4/10], Step [11/50], Loss: 0.4730\n",
            "Epoch [4/10], Step [21/50], Loss: 0.3893\n",
            "Epoch [4/10], Step [31/50], Loss: 0.4450\n",
            "Epoch [4/10], Step [41/50], Loss: 0.4195\n",
            "Epoch [5/10], Step [1/50], Loss: 0.4923\n",
            "Epoch [5/10], Step [11/50], Loss: 0.3848\n",
            "Epoch [5/10], Step [21/50], Loss: 0.3528\n",
            "Epoch [5/10], Step [31/50], Loss: 0.3909\n",
            "Epoch [5/10], Step [41/50], Loss: 0.3729\n",
            "Epoch [6/10], Step [1/50], Loss: 0.4387\n",
            "Epoch [6/10], Step [11/50], Loss: 0.2621\n",
            "Epoch [6/10], Step [21/50], Loss: 0.3290\n",
            "Epoch [6/10], Step [31/50], Loss: 0.5105\n",
            "Epoch [6/10], Step [41/50], Loss: 0.4959\n",
            "Epoch [7/10], Step [1/50], Loss: 0.4331\n",
            "Epoch [7/10], Step [11/50], Loss: 0.2861\n",
            "Epoch [7/10], Step [21/50], Loss: 0.2296\n",
            "Epoch [7/10], Step [31/50], Loss: 0.4196\n",
            "Epoch [7/10], Step [41/50], Loss: 0.3903\n",
            "Epoch [8/10], Step [1/50], Loss: 0.3493\n",
            "Epoch [8/10], Step [11/50], Loss: 0.2599\n",
            "Epoch [8/10], Step [21/50], Loss: 0.2735\n",
            "Epoch [8/10], Step [31/50], Loss: 0.3526\n",
            "Epoch [8/10], Step [41/50], Loss: 0.3654\n",
            "Epoch [9/10], Step [1/50], Loss: 0.2551\n",
            "Epoch [9/10], Step [11/50], Loss: 0.3492\n",
            "Epoch [9/10], Step [21/50], Loss: 0.2826\n",
            "Epoch [9/10], Step [31/50], Loss: 0.1548\n",
            "Epoch [9/10], Step [41/50], Loss: 0.2740\n",
            "Epoch [10/10], Step [1/50], Loss: 0.1470\n",
            "Epoch [10/10], Step [11/50], Loss: 0.1934\n",
            "Epoch [10/10], Step [21/50], Loss: 0.1922\n",
            "Epoch [10/10], Step [31/50], Loss: 0.2963\n",
            "Epoch [10/10], Step [41/50], Loss: 0.1712\n",
            "Test Accuracy of the model on the test images: 73.0 %\n"
          ]
        }
      ]
    },
    {
      "cell_type": "markdown",
      "source": [
        "# Plotting ROC and computing AUC"
      ],
      "metadata": {
        "id": "QNJ-mJMqdxWF"
      }
    },
    {
      "cell_type": "code",
      "source": [
        "# Set the model to evaluation mode\n",
        "model.eval()\n",
        "\n",
        "# Get the predicted probabilities and true labels for the test set\n",
        "probs = []\n",
        "labels = []\n",
        "with torch.no_grad():\n",
        "    for images, true_labels in test_loader:\n",
        "        outputs = model(images)\n",
        "        batch_probs = torch.softmax(outputs, dim=1)[:, 1].numpy()\n",
        "        probs.extend(batch_probs)\n",
        "        labels.extend(true_labels.numpy())\n",
        "\n",
        "# Calculate the fpr and tpr for different threshold values\n",
        "fpr, tpr, thresholds = roc_curve(labels, probs)\n",
        "\n",
        "# Calculate the area under the curve (AUC)\n",
        "roc_auc = auc(fpr, tpr)"
      ],
      "metadata": {
        "id": "7pYx5fvjfre7"
      },
      "execution_count": null,
      "outputs": []
    },
    {
      "cell_type": "code",
      "source": [
        "# Plot the ROC curve\n",
        "plt.figure(figsize=(10,7))\n",
        "plt.plot(fpr, tpr, label='ROC curve (area = %0.2f)' % roc_auc)\n",
        "plt.plot([0, 1], [0, 1], 'k--')\n",
        "plt.xlim([0.0, 1.0])\n",
        "plt.ylim([0.0, 1.05])\n",
        "plt.xlabel('False Positive Rate',fontsize=20)\n",
        "plt.ylabel('True Positive Rate',fontsize=20)\n",
        "plt.legend(loc=\"lower right\",fontsize=20)\n",
        "ax = plt.gca()\n",
        "ax.tick_params(axis='both', which='major', labelsize=16)\n",
        "ax.tick_params(axis='both', which='minor', labelsize=16)\n",
        "plt.show()\n"
      ],
      "metadata": {
        "colab": {
          "base_uri": "https://localhost:8080/",
          "height": 456
        },
        "id": "lIigcUQqdsFJ",
        "outputId": "f171d88f-220a-4380-c95d-a2fb16545d75"
      },
      "execution_count": 27,
      "outputs": [
        {
          "output_type": "display_data",
          "data": {
            "text/plain": [
              "<Figure size 720x504 with 1 Axes>"
            ],
            "image/png": "[encoded data removed]"
          },
          "metadata": {
            "needs_background": "light"
          }
        }
      ]
    },
    {
      "cell_type": "markdown",
      "source": [
        "This looks like a good start for this model architecture. The AUC value is closer to 1 than 0.5 and the ROC curve is leaning toward the upper left corner of the plot, which indicates that the performance of this classifier is promising. The loss is also gradually decreasing across the epochs, which is a good sign! I am only using 10 epochs and a learning rate of 0.001, so I can tune these hyperparameters when training and testing the model on the full datasets. "
      ],
      "metadata": {
        "id": "1X_focWNgNI9"
      }
    },
    {
      "cell_type": "markdown",
      "source": [
        "# Training and testing the model using the full dataset"
      ],
      "metadata": {
        "id": "qCHqQ9iCVHyl"
      }
    },
    {
      "cell_type": "markdown",
      "source": [
        "For the full dataset, I am going to increase the number of epochs from 10 to 25 and decreasing the learning rate from 0.001 to 0.0001"
      ],
      "metadata": {
        "id": "sds4BxH6d03g"
      }
    },
    {
      "cell_type": "code",
      "source": [
        "# Define the loss function and optimizer\n",
        "model_full = CNN()\n",
        "criterion_full = nn.CrossEntropyLoss()\n",
        "optimizer_full = optim.Adam(model_full.parameters(), lr=0.0001)\n",
        "\n",
        "# Train the model\n",
        "num_epochs = 25\n",
        "for epoch in range(num_epochs):\n",
        "    for i, (images_full, labels_full) in enumerate(train_loader_full):\n",
        "        # Forward pass\n",
        "        outputs_full = model_full(images_full)\n",
        "        loss_full = criterion_full(outputs_full, labels_full)\n",
        "        # Backward and optimize\n",
        "        optimizer_full.zero_grad()\n",
        "        loss_full.backward()\n",
        "        optimizer_full.step()\n",
        "        if (i) % 100 == 0:\n",
        "            print ('Epoch [{}/{}], Step [{}/{}], Loss: {:.4f}'\n",
        "                   .format(epoch+1, num_epochs, i+1, len(train_loader_full), loss_full.item()))\n",
        "    torch.save(model_full.state_dict(), \"/content/drive/My Drive/model{}.pth\".format(epoch))\n",
        "    print(\"Saved PyTorch Model State to model{}.pth\".format(epoch))\n",
        "\n",
        "# Test the model\n",
        "model_full.eval()\n",
        "with torch.no_grad():\n",
        "    correct_full = 0\n",
        "    total_full = 0\n",
        "    for images_full, labels_full in test_loader_full:\n",
        "        outputs_full = model_full(images_full)\n",
        "        _, predicted_full = torch.max(outputs_full.data, 1)\n",
        "        total_full += labels_full.size(0)\n",
        "        correct_full += (predicted_full == labels_full).sum().item()\n",
        "    print('Test Accuracy of the model on the test images: {} %'.format(100 * correct_full / total_full))\n",
        "\n"
      ],
      "metadata": {
        "colab": {
          "base_uri": "https://localhost:8080/"
        },
        "id": "w1rmEYFTLqrD",
        "outputId": "cd7abefb-f3e0-42f0-cdf5-24ab402fe2f0"
      },
      "execution_count": 12,
      "outputs": [
        {
          "output_type": "stream",
          "name": "stdout",
          "text": [
            "Epoch [1/25], Step [1/125], Loss: 0.7130\n",
            "Epoch [1/25], Step [101/125], Loss: 0.6030\n",
            "Saved PyTorch Model State to model0.pth\n",
            "Epoch [2/25], Step [1/125], Loss: 0.5300\n",
            "Epoch [2/25], Step [101/125], Loss: 0.5517\n",
            "Saved PyTorch Model State to model1.pth\n",
            "Epoch [3/25], Step [1/125], Loss: 0.4477\n",
            "Epoch [3/25], Step [101/125], Loss: 0.3751\n",
            "Saved PyTorch Model State to model2.pth\n",
            "Epoch [4/25], Step [1/125], Loss: 0.4081\n",
            "Epoch [4/25], Step [101/125], Loss: 0.3856\n",
            "Saved PyTorch Model State to model3.pth\n",
            "Epoch [5/25], Step [1/125], Loss: 0.3263\n",
            "Epoch [5/25], Step [101/125], Loss: 0.4460\n",
            "Saved PyTorch Model State to model4.pth\n",
            "Epoch [6/25], Step [1/125], Loss: 0.2831\n",
            "Epoch [6/25], Step [101/125], Loss: 0.3040\n",
            "Saved PyTorch Model State to model5.pth\n",
            "Epoch [7/25], Step [1/125], Loss: 0.2611\n",
            "Epoch [7/25], Step [101/125], Loss: 0.3760\n",
            "Saved PyTorch Model State to model6.pth\n",
            "Epoch [8/25], Step [1/125], Loss: 0.2165\n",
            "Epoch [8/25], Step [101/125], Loss: 0.3414\n",
            "Saved PyTorch Model State to model7.pth\n",
            "Epoch [9/25], Step [1/125], Loss: 0.2764\n",
            "Epoch [9/25], Step [101/125], Loss: 0.2549\n",
            "Saved PyTorch Model State to model8.pth\n",
            "Epoch [10/25], Step [1/125], Loss: 0.2878\n",
            "Epoch [10/25], Step [101/125], Loss: 0.1920\n",
            "Saved PyTorch Model State to model9.pth\n",
            "Epoch [11/25], Step [1/125], Loss: 0.1852\n",
            "Epoch [11/25], Step [101/125], Loss: 0.0944\n",
            "Saved PyTorch Model State to model10.pth\n",
            "Epoch [12/25], Step [1/125], Loss: 0.0915\n",
            "Epoch [12/25], Step [101/125], Loss: 0.1401\n",
            "Saved PyTorch Model State to model11.pth\n",
            "Epoch [13/25], Step [1/125], Loss: 0.0904\n",
            "Epoch [13/25], Step [101/125], Loss: 0.1202\n",
            "Saved PyTorch Model State to model12.pth\n",
            "Epoch [14/25], Step [1/125], Loss: 0.0628\n",
            "Epoch [14/25], Step [101/125], Loss: 0.0662\n",
            "Saved PyTorch Model State to model13.pth\n",
            "Epoch [15/25], Step [1/125], Loss: 0.0596\n",
            "Epoch [15/25], Step [101/125], Loss: 0.0415\n",
            "Saved PyTorch Model State to model14.pth\n",
            "Epoch [16/25], Step [1/125], Loss: 0.0351\n",
            "Epoch [16/25], Step [101/125], Loss: 0.0947\n",
            "Saved PyTorch Model State to model15.pth\n",
            "Epoch [17/25], Step [1/125], Loss: 0.0532\n",
            "Epoch [17/25], Step [101/125], Loss: 0.0254\n",
            "Saved PyTorch Model State to model16.pth\n",
            "Epoch [18/25], Step [1/125], Loss: 0.0189\n",
            "Epoch [18/25], Step [101/125], Loss: 0.0203\n",
            "Saved PyTorch Model State to model17.pth\n",
            "Epoch [19/25], Step [1/125], Loss: 0.0176\n",
            "Epoch [19/25], Step [101/125], Loss: 0.0274\n",
            "Saved PyTorch Model State to model18.pth\n",
            "Epoch [20/25], Step [1/125], Loss: 0.0225\n",
            "Epoch [20/25], Step [101/125], Loss: 0.0938\n",
            "Saved PyTorch Model State to model19.pth\n",
            "Epoch [21/25], Step [1/125], Loss: 0.0271\n",
            "Epoch [21/25], Step [101/125], Loss: 0.0111\n",
            "Saved PyTorch Model State to model20.pth\n",
            "Epoch [22/25], Step [1/125], Loss: 0.0183\n",
            "Epoch [22/25], Step [101/125], Loss: 0.0086\n",
            "Saved PyTorch Model State to model21.pth\n",
            "Epoch [23/25], Step [1/125], Loss: 0.0126\n",
            "Epoch [23/25], Step [101/125], Loss: 0.0084\n",
            "Saved PyTorch Model State to model22.pth\n",
            "Epoch [24/25], Step [1/125], Loss: 0.0085\n",
            "Epoch [24/25], Step [101/125], Loss: 0.0062\n",
            "Saved PyTorch Model State to model23.pth\n",
            "Epoch [25/25], Step [1/125], Loss: 0.0055\n",
            "Epoch [25/25], Step [101/125], Loss: 0.0069\n",
            "Saved PyTorch Model State to model24.pth\n",
            "Test Accuracy of the model on the test images: 81.8 %\n"
          ]
        }
      ]
    },
    {
      "cell_type": "markdown",
      "source": [
        "# Plotting ROC and computing AUC"
      ],
      "metadata": {
        "id": "Zi2Mhw8CVQkN"
      }
    },
    {
      "cell_type": "code",
      "source": [
        "# Set the model to evaluation mode\n",
        "model_full.eval()\n",
        "\n",
        "# Get the predicted probabilities and true labels for the test set\n",
        "probs = []\n",
        "labels = []\n",
        "with torch.no_grad():\n",
        "    for images, true_labels in test_loader_full:\n",
        "        outputs = model_full(images)\n",
        "        batch_probs = torch.softmax(outputs, dim=1)[:, 1].numpy()\n",
        "        probs.extend(batch_probs)\n",
        "        labels.extend(true_labels.numpy())\n",
        "\n",
        "# Calculate the fpr and tpr for different threshold values\n",
        "fpr, tpr, thresholds = roc_curve(labels, probs)\n",
        "\n",
        "# Calculate the area under the curve (AUC)\n",
        "roc_auc = auc(fpr, tpr)"
      ],
      "metadata": {
        "id": "21V4j5l1Xpsc"
      },
      "execution_count": null,
      "outputs": []
    },
    {
      "cell_type": "code",
      "source": [
        "# Plot the ROC curve\n",
        "plt.figure(figsize=(10,7))\n",
        "plt.plot(fpr, tpr, label='ROC curve (area = %0.2f)' % roc_auc)\n",
        "plt.plot([0, 1], [0, 1], 'k--')\n",
        "plt.xlim([0.0, 1.0])\n",
        "plt.ylim([0.0, 1.05])\n",
        "plt.xlabel('False Positive Rate',fontsize=20)\n",
        "plt.ylabel('True Positive Rate',fontsize=20)\n",
        "plt.legend(loc=\"lower right\",fontsize=20)\n",
        "ax = plt.gca()\n",
        "ax.tick_params(axis='both', which='major', labelsize=16)\n",
        "ax.tick_params(axis='both', which='minor', labelsize=16)\n",
        "plt.show()"
      ],
      "metadata": {
        "colab": {
          "base_uri": "https://localhost:8080/",
          "height": 456
        },
        "id": "273nDnz8XkiK",
        "outputId": "6f08ca0e-20c9-40f7-af50-b611a5cde5ab"
      },
      "execution_count": 22,
      "outputs": [
        {
          "output_type": "display_data",
          "data": {
            "text/plain": [
              "<Figure size 720x504 with 1 Axes>"
            ],
            "image/png": "[encoded data removed]"
          },
          "metadata": {
            "needs_background": "light"
          }
        }
      ]
    },
    {
      "cell_type": "markdown",
      "source": [
        "Ideally, a binary classifier would have a high TPR and a low FPR at all thresholds, which would correspond to a curve that hugs the upper-left corner of the plot. The plot above shows that the ROC curve obtained for this model is following this behavior, suggesting that this is a good binary classifier.\n",
        "\n",
        "In general, the closer the ROC curve is to the upper-left corner of the plot, and the higher the AUC, the better the performance of the classifier. The AUC I obtain is 0.91, which indicates that the model has a good ability to distinguish between the positive and negative classes. A perfect classifier would have an AUC of 1, and a random classifier would have an AUC of 0.5. \n",
        "\n",
        "The accuracy of the model on the test images is 82%. An accuracy of 82% means that 82% of the test set instances were correctly classified by the model.\n",
        "\n",
        "Furthermore, we can notice that the loss is gradually decreasing from 0.7 to 0.007 across the 25 epochs during training, meaning that the model is learning to fit the training data better and thus make better predictions over time."
      ],
      "metadata": {
        "id": "L-SeFLTfIQ88"
      }
    },
    {
      "cell_type": "code",
      "source": [],
      "metadata": {
        "id": "9_XNQv3ybqbn"
      },
      "execution_count": null,
      "outputs": []
    },
    {
      "cell_type": "code",
      "source": [],
      "metadata": {
        "id": "gQ1BiIStb5sE"
      },
      "execution_count": null,
      "outputs": []
    }
  ]
}